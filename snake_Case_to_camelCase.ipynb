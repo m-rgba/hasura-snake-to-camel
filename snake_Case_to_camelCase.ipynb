{
  "nbformat": 4,
  "nbformat_minor": 0,
  "metadata": {
    "colab": {
      "name": "snake_Case_to_camelCase.ipynb",
      "provenance": [],
      "collapsed_sections": []
    },
    "kernelspec": {
      "name": "python3",
      "display_name": "Python 3"
    },
    "language_info": {
      "name": "python"
    }
  },
  "cells": [
    {
      "cell_type": "code",
      "metadata": {
        "id": "7nkimsPKfdg-"
      },
      "source": [
        "# Converts Hasura schemas from _snake_case to camelCase\n",
        "import sys\n",
        "!{sys.executable} -m pip install pyhumps\n",
        "\n",
        "import requests\n",
        "import json\n",
        "import pandas as pd\n",
        "import humps\n",
        "import inflect\n",
        "import time\n",
        "\n",
        "## Enter Parameters Here:\n",
        "hasura_hostname = 'https://projectname.hasura.app' # stripping the /v1/graphql, etc.\n",
        "admin_secret = ''\n",
        "db_source = 'default'"
      ],
      "execution_count": null,
      "outputs": []
    },
    {
      "cell_type": "code",
      "metadata": {
        "id": "al_-Hat8bi38"
      },
      "source": [
        "# Introspect > query_root\n",
        "query = '''\n",
        "query introspectionQueryRoot {\n",
        "  __type(name:\"query_root\") {\n",
        "    kind\n",
        "    name\n",
        "    fields {\n",
        "      name\n",
        "    }\n",
        "  }\n",
        "}\n",
        "'''\n",
        "query_root = requests.post(hasura_hostname+'/v1/graphql', json={'query': query}, headers={'x-hasura-admin-secret': admin_secret})\n",
        "json_data = json.loads(query_root.text)\n",
        "fields = pd.DataFrame(json_data['data']['__type']['fields'])\n",
        "\n",
        "print('>>> All Fields')\n",
        "display(fields)\n",
        "## Stripping from the _aggregate field to try and target just new tables and views\n",
        "fields = fields[fields['name'].str.endswith('_aggregate')]\n",
        "fields['name'] = fields['name'].str.replace('_aggregate', '')\n",
        "\n",
        "print('>>> Table and View-Based Fields')\n",
        "display(fields)"
      ],
      "execution_count": null,
      "outputs": []
    },
    {
      "cell_type": "code",
      "metadata": {
        "id": "ekiB7Hf1zcgb"
      },
      "source": [
        "# Inflect word to plural / singular\n",
        "p = inflect.engine()\n",
        "\n",
        "for i in fields.index:\n",
        "  # De-camel any pre-camelized names\n",
        "  field_decamel = humps.decamelize(fields.at[i,'name'])\n",
        "\n",
        "  # Split up words to lists\n",
        "  words = field_decamel.split('_')\n",
        "\n",
        "  # Plural version - last word plural\n",
        "  plural = p.plural_noun(words[-1])\n",
        "  if plural != False:\n",
        "    plural_words = words[:-1]\n",
        "    plural_words.append(plural)\n",
        "  else:\n",
        "    plural_words = words\n",
        "\n",
        "  # Singular version - last word singular\n",
        "  singular = p.singular_noun(words[-1])\n",
        "  if singular != False:\n",
        "    singular_words = words[:-1]\n",
        "    singular_words.append(singular)\n",
        "  else:\n",
        "    singular_words = words\n",
        "\n",
        "  # Camel-ise lists\n",
        "  plural_camel = plural_words[0] + ''.join(x.title() for x in plural_words[1:])\n",
        "  singular_camel = singular_words[0] + ''.join(x.title() for x in singular_words[1:])\n",
        "\n",
        "  # Build Object\n",
        "  jsondata = {}\n",
        "  args={}\n",
        "  configuration={}\n",
        "  custom_root_fields={}\n",
        "\n",
        "  # Create Custom Root Field Payload\n",
        "  jsondata['type'] = 'pg_set_table_customization'\n",
        "  args['table'] = fields.at[i,'name']\n",
        "  args['source'] = db_source\n",
        "  configuration['identifier'] = singular_camel\n",
        "  custom_root_fields['select'] = plural_camel\n",
        "  custom_root_fields['select_by_pk'] = singular_camel\n",
        "  custom_root_fields['select_aggregate'] = plural_camel + 'Aggregate'\n",
        "  custom_root_fields['insert'] = plural_camel + 'Insert'\n",
        "  custom_root_fields['insert_one'] = singular_camel + 'Insert'\n",
        "  custom_root_fields['update'] = plural_camel + 'Update'\n",
        "  custom_root_fields['update_by_pk'] = singular_camel + 'Update'\n",
        "  custom_root_fields['delete'] = plural_camel + 'Delete'\n",
        "  custom_root_fields['delete_by_pk'] = singular_camel + 'Delete'\n",
        "\n",
        "  configuration['custom_root_fields'] = custom_root_fields\n",
        "  args['configuration'] = configuration\n",
        "  jsondata['args'] = args\n",
        "\n",
        "  update_root_fields = requests.post(hasura_hostname+'/v1/metadata', json=jsondata, headers={'x-hasura-admin-secret': admin_secret})\n",
        "  if update_root_fields.status_code == 200:\n",
        "      print('-----------------------------------------')\n",
        "      print('Success: ' + fields.at[i,'name'])\n",
        "  else:\n",
        "      print('-----------------------------------------')\n",
        "      print('Failure: ' + fields.at[i,'name'])\n",
        "      print(update_root_fields.reason)\n",
        "  time.sleep(2) # Cooldown"
      ],
      "execution_count": null,
      "outputs": []
    }
  ]
}